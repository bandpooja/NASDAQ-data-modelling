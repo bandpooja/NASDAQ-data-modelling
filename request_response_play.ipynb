{
 "cells": [
  {
   "cell_type": "markdown",
   "id": "8b809f0c",
   "metadata": {},
   "source": [
    "# Testing the Volume Predictor endpoint after hosting it locally\n",
    "\n",
    "**Author**: Pooja Bandal"
   ]
  },
  {
   "cell_type": "code",
   "execution_count": 2,
   "id": "9fb305c0",
   "metadata": {},
   "outputs": [],
   "source": [
    "import requests"
   ]
  },
  {
   "cell_type": "markdown",
   "id": "2f397e72",
   "metadata": {},
   "source": [
    "## Tells what endpoint is being accessed"
   ]
  },
  {
   "cell_type": "code",
   "execution_count": 7,
   "id": "bc5f5e41",
   "metadata": {},
   "outputs": [
    {
     "data": {
      "text/plain": [
       "{'status': 'SUCCESSFUL',\n",
       " 'information': 'Running the volume prediction application'}"
      ]
     },
     "execution_count": 7,
     "metadata": {},
     "output_type": "execute_result"
    }
   ],
   "source": [
    "resp = requests.get(\"http://127.0.0.1:8081\")\n",
    "resp.json()"
   ]
  },
  {
   "cell_type": "markdown",
   "id": "4e723b19",
   "metadata": {},
   "source": [
    "## Make a volume prediction"
   ]
  },
  {
   "cell_type": "code",
   "execution_count": 8,
   "id": "791dbfec",
   "metadata": {},
   "outputs": [
    {
     "data": {
      "text/plain": [
       "{'status': 'SUCCESSFUL', 'prediction': {'volume': 12750}}"
      ]
     },
     "execution_count": 8,
     "metadata": {},
     "output_type": "execute_result"
    }
   ],
   "source": [
    "resp = requests.get(\"http://127.0.0.1:8081/predict?vol_moving_avg=12345&adj_close_rolling_med=25\")\n",
    "resp.json()"
   ]
  },
  {
   "cell_type": "code",
   "execution_count": 9,
   "id": "95f10786",
   "metadata": {},
   "outputs": [],
   "source": [
    "# END"
   ]
  }
 ],
 "metadata": {
  "kernelspec": {
   "display_name": "Python 3 (ipykernel)",
   "language": "python",
   "name": "python3"
  },
  "language_info": {
   "codemirror_mode": {
    "name": "ipython",
    "version": 3
   },
   "file_extension": ".py",
   "mimetype": "text/x-python",
   "name": "python",
   "nbconvert_exporter": "python",
   "pygments_lexer": "ipython3",
   "version": "3.10.4"
  }
 },
 "nbformat": 4,
 "nbformat_minor": 5
}
